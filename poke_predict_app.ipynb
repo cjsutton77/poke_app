{
 "cells": [
  {
   "cell_type": "code",
   "execution_count": 1,
<<<<<<< HEAD
   "id": "ordinary-product",
||||||| merged common ancestors
   "id": "african-whale",
=======
   "id": "valid-basin",
>>>>>>> b9f916b6384ebd0f0f795c497efeef43b836e715
   "metadata": {},
   "outputs": [
    {
     "name": "stderr",
     "output_type": "stream",
     "text": [
      "/Users/christiansutton/opt/anaconda3/lib/python3.8/site-packages/fastbook/__init__.py:18: UserWarning: Missing `graphviz` - please run `conda install fastbook`\n",
      "  except ModuleNotFoundError: warn(\"Missing `graphviz` - please run `conda install fastbook`\")\n"
     ]
    }
   ],
   "source": [
    "from fastai.vision import *\n",
    "from fastai.imports import *\n",
    "from fastai.learner import *\n",
    "from fastai.vision.core import *\n",
    "from fastai.vision.widgets import *"
   ]
  },
  {
   "cell_type": "code",
   "execution_count": 2,
<<<<<<< HEAD
   "id": "published-rochester",
||||||| merged common ancestors
   "id": "italian-contemporary",
=======
   "id": "wireless-scholar",
>>>>>>> b9f916b6384ebd0f0f795c497efeef43b836e715
   "metadata": {},
   "outputs": [],
   "source": [
    "#path = Path()\n",
    "learn_inf = load_learner('export.pkl', cpu = True)\n",
    "btn_upload = widgets.FileUpload()\n",
    "out_pl = widgets.Output()\n",
    "lbl_pred = widgets.Label()"
   ]
  },
  {
   "cell_type": "code",
   "execution_count": 3,
<<<<<<< HEAD
   "id": "duplicate-douglas",
||||||| merged common ancestors
   "id": "consecutive-blast",
=======
   "id": "placed-charity",
>>>>>>> b9f916b6384ebd0f0f795c497efeef43b836e715
   "metadata": {},
   "outputs": [],
   "source": [
    "def on_click(change):\n",
    "    img = PILImage.create(btn_upload.data[-1])\n",
    "    out_pl.clear_output()\n",
    "    with out_pl: display(img.to_thumb(128,128))\n",
    "    pred,pred_idx,probs = learn_inf.predict(img)\n",
    "    lbl_pred.value = f'Poke-Prediction: {pred}; Poke-Probability: {probs[pred_idx]:.04f}'"
   ]
  },
  {
   "cell_type": "code",
   "execution_count": 4,
<<<<<<< HEAD
   "id": "likely-research",
||||||| merged common ancestors
   "id": "arranged-switch",
=======
   "id": "careful-cancellation",
>>>>>>> b9f916b6384ebd0f0f795c497efeef43b836e715
   "metadata": {},
   "outputs": [],
   "source": [
    "btn_upload.observe(on_click, names=['data'])"
   ]
  },
  {
   "cell_type": "code",
   "execution_count": 5,
<<<<<<< HEAD
   "id": "provincial-object",
||||||| merged common ancestors
   "id": "rough-scanning",
=======
   "id": "increased-diagnosis",
>>>>>>> b9f916b6384ebd0f0f795c497efeef43b836e715
   "metadata": {},
   "outputs": [
    {
     "data": {
      "application/vnd.jupyter.widget-view+json": {
       "model_id": "07cd54118e8d4caebd348d8db1429c38",
       "version_major": 2,
       "version_minor": 0
      },
      "text/plain": [
       "VBox(children=(Label(value='Select your pokemon.  For best results use 1st Generation'), FileUpload(value={}, description='Upload'), Output(), Lab…"
      ]
     },
     "metadata": {},
     "output_type": "display_data"
    }
   ],
   "source": [
    "display(VBox([widgets.Label('Select your pokemon.'), btn_upload, out_pl, lbl_pred]))"
   ]
  },
  {
   "cell_type": "code",
   "execution_count": null,
<<<<<<< HEAD
   "id": "level-orlando",
||||||| merged common ancestors
   "id": "ranging-warehouse",
=======
   "id": "gentle-anatomy",
>>>>>>> b9f916b6384ebd0f0f795c497efeef43b836e715
   "metadata": {},
   "outputs": [],
   "source": []
  }
 ],
 "metadata": {
  "kernelspec": {
   "display_name": "Python 3",
   "language": "python",
   "name": "python3"
  },
  "language_info": {
   "codemirror_mode": {
    "name": "ipython",
    "version": 3
   },
   "file_extension": ".py",
   "mimetype": "text/x-python",
   "name": "python",
   "nbconvert_exporter": "python",
   "pygments_lexer": "ipython3",
   "version": "3.8.5"
  }
 },
 "nbformat": 4,
 "nbformat_minor": 5
}
